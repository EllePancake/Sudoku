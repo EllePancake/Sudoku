{
 "cells": [
  {
   "cell_type": "code",
   "execution_count": 7,
   "id": "f5335cd5",
   "metadata": {},
   "outputs": [
    {
     "name": "stdout",
     "output_type": "stream",
     "text": [
      "Cell (0, 2) with number 8 is correct!\n"
     ]
    }
   ],
   "source": [
    "def is_cell_valid(board, row, col, num):\n",
    "    \"\"\"\n",
    "    Checks row, column, and then 3 by 3 box\n",
    "    \"\"\"\n",
    "    for c in range(9):\n",
    "        if board[row][c] == num:\n",
    "            return False\n",
    "\n",
    "    for r in range(9):\n",
    "        if board[r][col] == num:\n",
    "            return False\n",
    "\n",
    "    start_row = (row // 3) * 3\n",
    "    start_col = (col // 3) * 3\n",
    "    for r in range(start_row, start_row + 3):\n",
    "        for c in range(start_col, start_col + 3):\n",
    "            if board[r][c] == num:\n",
    "                return False\n",
    "\n",
    "    return True\n",
    "\n",
    "# Fill this in with your Sudoku Puzzle!\n",
    "sudoku_board = [\n",
    "    [9, 0, 4, 0, 1, 5, 6, 0, 0],\n",
    "    [0, 0, 0, 4, 0, 0, 0, 0, 0],\n",
    "    [0, 0, 7, 0, 0, 0, 0, 8, 0],\n",
    "    [0, 0, 9, 0, 4, 2, 0, 0, 7],\n",
    "    [0, 0, 0, 3, 0, 0, 2, 0, 0],\n",
    "    [4, 0, 0, 6, 0, 0, 0, 0, 0],\n",
    "    [0, 5, 0, 0, 0, 0, 0, 0, 6],\n",
    "    [1, 0, 0, 0, 2, 9, 5, 0, 0],\n",
    "    [0, 0, 0, 0, 8, 3, 0, 0, 0]\n",
    "]\n",
    "\n",
    "row = 0\n",
    "col = 2\n",
    "num = 8\n",
    "\n",
    "if is_cell_valid(sudoku_board, row, col, num):\n",
    "    print(f\"Cell ({row}, {col}) with number {num} is correct!\")\n",
    "else:\n",
    "    print(f\"Cell ({row}, {col}) with number {num} is incorrect.\")"
   ]
  }
 ],
 "metadata": {
  "kernelspec": {
   "display_name": "Python 3 (ipykernel)",
   "language": "python",
   "name": "python3"
  },
  "language_info": {
   "codemirror_mode": {
    "name": "ipython",
    "version": 3
   },
   "file_extension": ".py",
   "mimetype": "text/x-python",
   "name": "python",
   "nbconvert_exporter": "python",
   "pygments_lexer": "ipython3",
   "version": "3.10.6"
  }
 },
 "nbformat": 4,
 "nbformat_minor": 5
}
