{
 "cells": [
  {
   "cell_type": "code",
   "execution_count": 2,
   "id": "7e1b3412",
   "metadata": {},
   "outputs": [
    {
     "name": "stdout",
     "output_type": "stream",
     "text": [
      "Sudoku solution is correct!\n"
     ]
    }
   ],
   "source": [
    "def is_valid_solution(board):\n",
    "    for row in range(9):\n",
    "        if not is_valid_row(board, row):\n",
    "            return False\n",
    "\n",
    "    for col in range(9):\n",
    "        if not is_valid_column(board, col):\n",
    "            return False\n",
    "\n",
    "    for row in range(0, 9, 3):\n",
    "        for col in range(0, 9, 3):\n",
    "            if not is_valid_box(board, row, col):\n",
    "                return False\n",
    "\n",
    "    return True\n",
    "\n",
    "def is_valid_row(board, row):\n",
    "    nums = set()\n",
    "    for col in range(9):\n",
    "        num = board[row][col]\n",
    "        if num == 0 or num in nums:\n",
    "            return False\n",
    "        nums.add(num)\n",
    "    return True\n",
    "\n",
    "def is_valid_column(board, col):\n",
    "    nums = set()\n",
    "    for row in range(9):\n",
    "        num = board[row][col]\n",
    "        if num == 0 or num in nums:\n",
    "            return False\n",
    "        nums.add(num)\n",
    "    return True\n",
    "\n",
    "def is_valid_box(board, start_row, start_col):\n",
    "    nums = set()\n",
    "    for row in range(3):\n",
    "        for col in range(3):\n",
    "            num = board[start_row + row][start_col + col]\n",
    "            if num == 0 or num in nums:\n",
    "                return False\n",
    "            nums.add(num)\n",
    "    return True\n",
    "\n",
    "# Put your sudoku solution here!\n",
    "sudoku_solution = [\n",
    "    [5, 3, 4, 6, 7, 8, 9, 1, 2],\n",
    "    [6, 7, 2, 1, 9, 5, 3, 4, 8],\n",
    "    [1, 9, 8, 3, 4, 2, 5, 6, 7],\n",
    "    [8, 5, 9, 7, 6, 1, 4, 2, 3],\n",
    "    [4, 2, 6, 8, 5, 3, 7, 9, 1],\n",
    "    [7, 1, 3, 9, 2, 4, 8, 5, 6],\n",
    "    [9, 6, 1, 5, 3, 7, 2, 8, 4],\n",
    "    [2, 8, 7, 4, 1, 9, 6, 3, 5],\n",
    "    [3, 4, 5, 2, 8, 6, 1, 7, 9]\n",
    "]\n",
    "\n",
    "if is_valid_solution(sudoku_solution):\n",
    "    print(\"Sudoku solution is correct!\")\n",
    "else:\n",
    "    print(\"Sudoku solution is incorrect.\")"
   ]
  }
 ],
 "metadata": {
  "kernelspec": {
   "display_name": "Python 3 (ipykernel)",
   "language": "python",
   "name": "python3"
  },
  "language_info": {
   "codemirror_mode": {
    "name": "ipython",
    "version": 3
   },
   "file_extension": ".py",
   "mimetype": "text/x-python",
   "name": "python",
   "nbconvert_exporter": "python",
   "pygments_lexer": "ipython3",
   "version": "3.10.6"
  }
 },
 "nbformat": 4,
 "nbformat_minor": 5
}
